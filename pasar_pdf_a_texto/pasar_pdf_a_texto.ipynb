{
 "cells": [
  {
   "cell_type": "markdown",
   "id": "69fcdc1a-86a8-4b9a-b42f-e4a3e23ea131",
   "metadata": {},
   "source": [
    "%pip install pdfplumber -q --user "
   ]
  },
  {
   "cell_type": "code",
   "execution_count": 1,
   "id": "38ef2823-1bb5-4270-9055-c23fa0dbdb4e",
   "metadata": {},
   "outputs": [],
   "source": [
    "import pdfplumber as pp"
   ]
  },
  {
   "cell_type": "code",
   "execution_count": 2,
   "id": "a8a585a7-2dee-4392-b20f-1663648507c7",
   "metadata": {},
   "outputs": [],
   "source": [
    "pdf = pp.open('prespuesto Julian Alvarez 656 2 (4).pdf')"
   ]
  },
  {
   "cell_type": "code",
   "execution_count": 16,
   "id": "2f6ef0c5-8418-4d01-9699-fd5a7e107202",
   "metadata": {},
   "outputs": [
    {
     "data": {
      "text/plain": [
       "2"
      ]
     },
     "execution_count": 16,
     "metadata": {},
     "output_type": "execute_result"
    }
   ],
   "source": [
    "len(pdf.pages)"
   ]
  },
  {
   "cell_type": "code",
   "execution_count": 3,
   "id": "ab22193e-e6ff-4a83-8a64-c9cb2a510cc3",
   "metadata": {},
   "outputs": [],
   "source": [
    "page = pdf.pages[0]"
   ]
  },
  {
   "cell_type": "code",
   "execution_count": 4,
   "id": "fcef72c5-9a9c-4b76-a7c8-da2a4d7a07ed",
   "metadata": {},
   "outputs": [],
   "source": [
    "text = page.extract_text()"
   ]
  },
  {
   "cell_type": "code",
   "execution_count": 5,
   "id": "ebed36d1-dd7b-4b91-bb31-1ffdd9bbbd40",
   "metadata": {},
   "outputs": [
    {
     "name": "stdout",
     "output_type": "stream",
     "text": [
      "10/11/2022 \n",
      "                                                                                                                              \n",
      "        Presupuesto Nº220710/2 \n",
      " \n",
      " \n",
      " \n",
      " \n",
      " \n",
      "                                                                                                                       \n",
      "Ref.: Presupuesto reparación en la finca ubicada en Julián Álvarez 656 Depto. 12 \n",
      "C.A.B.A. \n",
      " \n",
      "  Ítems  \n",
      " \n",
      "1.  Impermeabilización de terraza. \n",
      "1.1. Limpieza de la superficie, sacando los restos de puntura fibrada del suelo. \n",
      "1.2. Tratado de juntas de dilatación con brea liquida.  \n",
      "1.3. Colocación de membrana geo-textil. \n",
      "1.4. Aplicación de pintura fibrada color roja. \n",
      " \n",
      "2.  Pared exterior. \n",
      "2.1. La misma presenta plantas que están, con sus raíces, abriendo el revoque para \n",
      "dejar pasar la humedad, re retiraran y luego se tratara la superficie para matar \n",
      "todas las raíces que se encuentren. \n",
      "2.2. Sellado de aberturas con material hidrofugo. \n",
      "2.3. Se impermeabilizará la superficie con pintura exterior. \n",
      " \n",
      "3.  Pared del cuarto principal. \n",
      "3.1. Se quitará el material de alrededor del caño oxidado desde el piso hasta el techo. \n",
      "3.2. Se quitará el oxido que se encuentre suelto. \n",
      "3.3. Se protegerá el caño con pintura convertidor de oxido y pintura asfáltica. \n",
      "3.4. Se cubrirá el caño con material que no contenga cal. \n",
      " \n",
      "NOTA: Dichos trabajos se necesitan realizar para poder dejar el depto. en \n",
      "condiciones. \n",
      "  Se recomienda el cambio del caño de bajada de alimentación del \n",
      "baño(montante) \n",
      " \n",
      "Total del ítem 1 materiales y mano de obra  $ 295.600.- \n",
      "Total del ítem 2 Materiales y mono de obra  $ 35.000.- \n",
      "Total del ítem 3 Materiales y mono de obra  $ 28.000.- \n",
      " \n",
      " \n",
      "………………………………………..                                   ………………………………………..                     \n",
      "Firma                                                                                      Aclaración \n",
      "                    Solier 3652                                                         Bs. As. \n",
      " \n",
      "Leonardo   Cel.: 15-6204-9392         instalacionescamano@gmail.com      \n",
      " \n",
      "Página 1 de 2 \n"
     ]
    }
   ],
   "source": [
    "print(text)"
   ]
  },
  {
   "cell_type": "code",
   "execution_count": 6,
   "id": "d1862c57-22d7-4b42-953f-c5146bcdc17c",
   "metadata": {},
   "outputs": [
    {
     "name": "stdout",
     "output_type": "stream",
     "text": [
      "page_no = 1\n",
      "10/11/2022 \n",
      "                                                                                                                              \n",
      "        Presupuesto Nº220710/2 \n",
      " \n",
      " \n",
      " \n",
      " \n",
      " \n",
      "                                                                                                                       \n",
      "Ref.: Presupuesto reparación en la finca ubicada en Julián Álvarez 656 Depto. 12 \n",
      "C.A.B.A. \n",
      " \n",
      "  Ítems  \n",
      " \n",
      "1.  Impermeabilización de terraza. \n",
      "1.1. Limpieza de la superficie, sacando los restos de puntura fibrada del suelo. \n",
      "1.2. Tratado de juntas de dilatación con brea liquida.  \n",
      "1.3. Colocación de membrana geo-textil. \n",
      "1.4. Aplicación de pintura fibrada color roja. \n",
      " \n",
      "2.  Pared exterior. \n",
      "2.1. La misma presenta plantas que están, con sus raíces, abriendo el revoque para \n",
      "dejar pasar la humedad, re retiraran y luego se tratara la superficie para matar \n",
      "todas las raíces que se encuentren. \n",
      "2.2. Sellado de aberturas con material hidrofugo. \n",
      "2.3. Se impermeabilizará la superficie con pintura exterior. \n",
      " \n",
      "3.  Pared del cuarto principal. \n",
      "3.1. Se quitará el material de alrededor del caño oxidado desde el piso hasta el techo. \n",
      "3.2. Se quitará el oxido que se encuentre suelto. \n",
      "3.3. Se protegerá el caño con pintura convertidor de oxido y pintura asfáltica. \n",
      "3.4. Se cubrirá el caño con material que no contenga cal. \n",
      " \n",
      "NOTA: Dichos trabajos se necesitan realizar para poder dejar el depto. en \n",
      "condiciones. \n",
      "  Se recomienda el cambio del caño de bajada de alimentación del \n",
      "baño(montante) \n",
      " \n",
      "Total del ítem 1 materiales y mano de obra  $ 295.600.- \n",
      "Total del ítem 2 Materiales y mono de obra  $ 35.000.- \n",
      "Total del ítem 3 Materiales y mono de obra  $ 28.000.- \n",
      " \n",
      " \n",
      "………………………………………..                                   ………………………………………..                     \n",
      "Firma                                                                                      Aclaración \n",
      "                    Solier 3652                                                         Bs. As. \n",
      " \n",
      "Leonardo   Cel.: 15-6204-9392         instalacionescamano@gmail.com      \n",
      " \n",
      "Página 1 de 2\n",
      "---------------------------------------------\n",
      "page_no = 2\n",
      "10/11/2022 \n",
      "                                                                                                                              \n",
      "        Presupuesto Nº220710/2 \n",
      " \n",
      " \n",
      " \n",
      " \n",
      " \n",
      "  \n",
      "     \n",
      " \n",
      "En prueba de conformidad se firman del presente dos ejemplares de igual tenor y a un solo efecto, en \n",
      "la Ciudad Autónoma de Buenos Aires a los........... días del mes de ......................................del 2022.   \n",
      "Las partes constituyen domicilios especiales en los mencionados, obligándose a notificar con la mayor \n",
      "brevedad y por medio fehaciente cualquier modificación que pudiese producirse en los mismos. Las  \n",
      "partes se someten a la jurisdicción y competencia de los Tribunales Ordinarios del fuero Comercial de \n",
      "la Ciudad Autónoma de Buenos Aires. \n",
      " \n",
      " \n",
      "………………………………………..                                   ………………………………………..                     \n",
      "Firma                                                                                      Aclaración \n",
      "  \n",
      " \n",
      "                    Solier 3652                                                         Bs. As. \n",
      " \n",
      "Leonardo   Cel.: 15-6204-9392         instalacionescamano@gmail.com      \n",
      " \n",
      "Página 2 de 2\n",
      "---------------------------------------------\n"
     ]
    }
   ],
   "source": [
    "with pp.open('prespuesto Julian Alvarez 656 2 (4).pdf') as book:    \n",
    "    for page_no, page in enumerate(book.pages, start=1):\n",
    "        print(f'{page_no = }')\n",
    "        data = page.extract_text()\n",
    "        print(data.strip())\n",
    "        print('-'*45)"
   ]
  }
 ],
 "metadata": {
  "kernelspec": {
   "display_name": "Python 3 (ipykernel)",
   "language": "python",
   "name": "python3"
  },
  "language_info": {
   "codemirror_mode": {
    "name": "ipython",
    "version": 3
   },
   "file_extension": ".py",
   "mimetype": "text/x-python",
   "name": "python",
   "nbconvert_exporter": "python",
   "pygments_lexer": "ipython3",
   "version": "3.9.13"
  }
 },
 "nbformat": 4,
 "nbformat_minor": 5
}
